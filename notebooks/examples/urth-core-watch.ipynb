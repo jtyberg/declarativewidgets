{
 "cells": [
  {
   "cell_type": "markdown",
   "metadata": {},
   "source": [
    "### urth-core-watch Examples"
   ]
  },
  {
   "cell_type": "markdown",
   "metadata": {},
   "source": [
    "#### Example 1: Single function child\n",
    "\n",
    "The `urth-core-watch` element is used to wrap elements that mix `Urth.WatcherBehavior`. When a `{{var}}` set in the `value` attribute of the `urth-core-watch` changes, it will notify its children. This feature is handy when you wish to invoke a function with zero arguments or when the values of the arguments have not changed."
   ]
  },
  {
   "cell_type": "code",
   "execution_count": null,
   "metadata": {
    "collapsed": false
   },
   "outputs": [],
   "source": [
    "%%html\n",
    "<link rel='import' href='urth_components/paper-slider/paper-slider.html'\n",
    "        is='urth-core-import' package='PolymerElements/paper-slider'>"
   ]
  },
  {
   "cell_type": "code",
   "execution_count": null,
   "metadata": {
    "collapsed": true
   },
   "outputs": [],
   "source": [
    "counter = 0\n",
    "def aFunction():\n",
    "    global counter\n",
    "    counter += 1\n",
    "    return counter"
   ]
  },
  {
   "cell_type": "markdown",
   "metadata": {},
   "source": [
    "This template wraps a function that does not take any arguments. When `{{watched}}` changes value, it will cause the `urth-core-watch` element to notify the `urth-core-function`. `urth-core-function` mixes in `Urth.WatcherBehavior`, and it calls its `invoke` function when notified."
   ]
  },
  {
   "cell_type": "code",
   "execution_count": null,
   "metadata": {
    "collapsed": false
   },
   "outputs": [],
   "source": [
    "%%html\n",
    "<template is='urth-core-bind' channel=\"a\">\n",
    "    <urth-core-watch value=\"{{watched}}\">\n",
    "        <urth-core-function ref=\"aFunction\" result=\"{{counter}}\"></urth-core-function>\n",
    "    </urth-core-watch>\n",
    "    <span>{{counter}}</span>\n",
    "</template>"
   ]
  },
  {
   "cell_type": "markdown",
   "metadata": {},
   "source": [
    "Move the slider below and see the value above change."
   ]
  },
  {
   "cell_type": "code",
   "execution_count": null,
   "metadata": {
    "collapsed": false
   },
   "outputs": [],
   "source": [
    "%%html\n",
    "<template is='urth-core-bind' channel=\"a\">\n",
    "   <paper-slider min=\"1\" max=\"100\" step=\"1\" value=\"{{watched}}\"></paper-slider><span>{{x}}</span>\n",
    "</template>"
   ]
  },
  {
   "cell_type": "markdown",
   "metadata": {
    "collapsed": true
   },
   "source": [
    "#### Example 2: Multiple function children\n",
    "\n",
    "The `urth-core-watch` can support multiple children. Here is an example with 2 functions."
   ]
  },
  {
   "cell_type": "code",
   "execution_count": null,
   "metadata": {
    "collapsed": true
   },
   "outputs": [],
   "source": [
    "counter2 = 0\n",
    "def aFunction2():\n",
    "    global counter2\n",
    "    counter2 += 10\n",
    "    return counter2"
   ]
  },
  {
   "cell_type": "code",
   "execution_count": null,
   "metadata": {
    "collapsed": false
   },
   "outputs": [],
   "source": [
    "%%html\n",
    "<template is='urth-core-bind' channel=\"b\">\n",
    "    <urth-core-watch value=\"{{watched}}\">\n",
    "        <urth-core-function ref=\"aFunction\" result=\"{{counter}}\"></urth-core-function>\n",
    "        <urth-core-function ref=\"aFunction2\" result=\"{{counter2}}\"></urth-core-function>\n",
    "    </urth-core-watch>\n",
    "    <span>{{counter}}</span><br>\n",
    "    <span>{{counter2}}</span><br>\n",
    "</template>"
   ]
  },
  {
   "cell_type": "markdown",
   "metadata": {},
   "source": [
    "Move the slider below and see 2 values above change."
   ]
  },
  {
   "cell_type": "code",
   "execution_count": null,
   "metadata": {
    "collapsed": false
   },
   "outputs": [],
   "source": [
    "%%html\n",
    "<template is='urth-core-bind' channel=\"b\">\n",
    "   <paper-slider min=\"1\" max=\"100\" step=\"1\" value=\"{{watched}}\"></paper-slider><span>{{x}}</span>\n",
    "</template>"
   ]
  },
  {
   "cell_type": "markdown",
   "metadata": {},
   "source": [
    "#### Example 3: Using with dataframes\n",
    "\n",
    "The `urth-core-watch` can also contain `urth-core-dataframe`."
   ]
  },
  {
   "cell_type": "code",
   "execution_count": null,
   "metadata": {
    "collapsed": true
   },
   "outputs": [],
   "source": [
    "import pandas as pd"
   ]
  },
  {
   "cell_type": "code",
   "execution_count": null,
   "metadata": {
    "collapsed": false
   },
   "outputs": [],
   "source": [
    "from urth.widgets.widget_channels import channel\n",
    "\n",
    "aDataFrame1 = pd.DataFrame([\n",
    "        [\"A\", 1],\n",
    "        [\"B\", 2]\n",
    "    ], columns=[\"Letter\", \"Number\"]\n",
    ")\n",
    "\n",
    "aDataFrame2 = pd.DataFrame([\n",
    "        [\"C\", 1],\n",
    "        [\"D\", 2]\n",
    "    ], columns=[\"Letter\", \"Number\"]\n",
    ")\n",
    "\n",
    "aDataFrame = aDataFrame1\n",
    "\n",
    "def switchDataFrame():\n",
    "    global aDataFrame, aDataFrame1, aDataFrame2    \n",
    "    if( aDataFrame is aDataFrame1 ):\n",
    "        aDataFrame = aDataFrame2\n",
    "        channel(\"c\").set(\"switched\", 2)\n",
    "    else:\n",
    "        aDataFrame = aDataFrame1\n",
    "        channel(\"c\").set(\"switched\", 1)"
   ]
  },
  {
   "cell_type": "markdown",
   "metadata": {},
   "source": [
    "Several things happening here... we have a `urth-core-dataframe` element that is refrencing a `Pandas` DataFrame. We also have a `urth-core-function` element that gets invoked by a click of a button and causes the DataFrame reference to change.\n",
    "\n",
    "Since the DataFrame is modified by invoking a `urth-core-function`, the `urth-core-data-frame` will not detect it by simply using the `auto` property.\n",
    "\n",
    "`urth-core-watch` to the rescue. It will notify the `urth-core-dataframe` about changes to `{{switched}}`, which gets modified by the `switchDataFrame` function above."
   ]
  },
  {
   "cell_type": "code",
   "execution_count": null,
   "metadata": {
    "collapsed": false
   },
   "outputs": [],
   "source": [
    "%%html\n",
    "<link rel=\"import\" href=\"urth_components/urth-viz-table/urth-viz-table.html\" is=\"urth-core-import\">\n",
    "\n",
    "<template is='urth-core-bind' channel=\"c\">\n",
    "    <urth-core-watch value=\"{{switched}}\">\n",
    "        <urth-core-dataframe ref=\"aDataFrame\" value=\"{{df}}\"></urth-core-dataframe>\n",
    "    </urth-core-watch>\n",
    "    <urth-viz-table datarows=\"{{ df.data }}\" columns=\"{{ df.columns }}\"></urth-viz-table>\n",
    "    <urth-core-function id=\"f\" ref=\"switchDataFrame\"></urth-core-function>\n",
    "    <button onClick=\"f.invoke()\">switch</button>\n",
    "</template>"
   ]
  }
 ],
 "metadata": {
  "kernelspec": {
   "display_name": "Python 3",
   "language": "python",
   "name": "python3"
  },
  "language_info": {
   "codemirror_mode": {
    "name": "ipython",
    "version": 3
   },
   "file_extension": ".py",
   "mimetype": "text/x-python",
   "name": "python",
   "nbconvert_exporter": "python",
   "pygments_lexer": "ipython3",
   "version": "3.4.3"
  }
 },
 "nbformat": 4,
 "nbformat_minor": 0
}
